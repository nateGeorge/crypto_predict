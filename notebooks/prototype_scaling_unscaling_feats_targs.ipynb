{
 "cells": [
  {
   "cell_type": "code",
   "execution_count": 1,
   "metadata": {
    "collapsed": true
   },
   "outputs": [],
   "source": [
    "# core\n",
    "import sys\n",
    "import time\n",
    "\n",
    "# custom\n",
    "sys.path.append('../code/poloniex')\n",
    "import polo_eda as pe\n",
    "import calc_TA_sigs as cts\n",
    "\n",
    "# installed\n",
    "import pandas as pd\n",
    "import numpy as np\n",
    "from sklearn.preprocessing import StandardScaler as SS\n",
    "\n",
    "# plotting\n",
    "import matplotlib.pyplot as plt\n",
    "%matplotlib inline"
   ]
  },
  {
   "cell_type": "code",
   "execution_count": 2,
   "metadata": {
    "collapsed": true
   },
   "outputs": [],
   "source": [
    "df = pe.read_trade_hist('BTC_DASH')"
   ]
  },
  {
   "cell_type": "code",
   "execution_count": 3,
   "metadata": {},
   "outputs": [
    {
     "data": {
      "image/png": "[encoded data removed]",
      "text/plain": [
       "<matplotlib.figure.Figure at 0x7f9f3033e160>"
      ]
     },
     "metadata": {},
     "output_type": "display_data"
    }
   ],
   "source": [
    "f = df.rate.plot()"
   ]
  },
  {
   "cell_type": "code",
   "execution_count": 4,
   "metadata": {
    "collapsed": true
   },
   "outputs": [],
   "source": [
    "# resamples to the minute\n",
    "rs = df['rate'].resample('T').ohlc().interpolate()\n",
    "rs_vol = pd.DataFrame(df['amount'].resample('T').sum().interpolate())\n",
    "rs_vol.rename(columns={'amount':'volume'}, inplace=True)\n",
    "rs_full = rs.merge(rs_vol, left_index=True, right_index=True)"
   ]
  },
  {
   "cell_type": "code",
   "execution_count": 5,
   "metadata": {},
   "outputs": [
    {
     "data": {
      "text/html": [
       "<div>\n",
       "<style>\n",
       "    .dataframe thead tr:only-child th {\n",
       "        text-align: right;\n",
       "    }\n",
       "\n",
       "    .dataframe thead th {\n",
       "        text-align: left;\n",
       "    }\n",
       "\n",
       "    .dataframe tbody tr th {\n",
       "        vertical-align: top;\n",
       "    }\n",
       "</style>\n",
       "<table border=\"1\" class=\"dataframe\">\n",
       "  <thead>\n",
       "    <tr style=\"text-align: right;\">\n",
       "      <th></th>\n",
       "      <th>open</th>\n",
       "      <th>high</th>\n",
       "      <th>low</th>\n",
       "      <th>close</th>\n",
       "      <th>volume</th>\n",
       "    </tr>\n",
       "    <tr>\n",
       "      <th>date</th>\n",
       "      <th></th>\n",
       "      <th></th>\n",
       "      <th></th>\n",
       "      <th></th>\n",
       "      <th></th>\n",
       "    </tr>\n",
       "  </thead>\n",
       "  <tbody>\n",
       "    <tr>\n",
       "      <th>2014-02-07 20:41:00</th>\n",
       "      <td>0.000080</td>\n",
       "      <td>0.000080</td>\n",
       "      <td>0.000080</td>\n",
       "      <td>0.000080</td>\n",
       "      <td>19.081615</td>\n",
       "    </tr>\n",
       "    <tr>\n",
       "      <th>2014-02-07 20:42:00</th>\n",
       "      <td>0.000101</td>\n",
       "      <td>0.000101</td>\n",
       "      <td>0.000101</td>\n",
       "      <td>0.000101</td>\n",
       "      <td>24.861499</td>\n",
       "    </tr>\n",
       "    <tr>\n",
       "      <th>2014-02-07 20:43:00</th>\n",
       "      <td>0.000121</td>\n",
       "      <td>0.000121</td>\n",
       "      <td>0.000121</td>\n",
       "      <td>0.000121</td>\n",
       "      <td>30.641384</td>\n",
       "    </tr>\n",
       "    <tr>\n",
       "      <th>2014-02-07 20:44:00</th>\n",
       "      <td>0.000142</td>\n",
       "      <td>0.000142</td>\n",
       "      <td>0.000142</td>\n",
       "      <td>0.000142</td>\n",
       "      <td>36.421269</td>\n",
       "    </tr>\n",
       "    <tr>\n",
       "      <th>2014-02-07 20:45:00</th>\n",
       "      <td>0.000163</td>\n",
       "      <td>0.000163</td>\n",
       "      <td>0.000163</td>\n",
       "      <td>0.000163</td>\n",
       "      <td>42.201153</td>\n",
       "    </tr>\n",
       "  </tbody>\n",
       "</table>\n",
       "</div>"
      ],
      "text/plain": [
       "                         open      high       low     close     volume\n",
       "date                                                                  \n",
       "2014-02-07 20:41:00  0.000080  0.000080  0.000080  0.000080  19.081615\n",
       "2014-02-07 20:42:00  0.000101  0.000101  0.000101  0.000101  24.861499\n",
       "2014-02-07 20:43:00  0.000121  0.000121  0.000121  0.000121  30.641384\n",
       "2014-02-07 20:44:00  0.000142  0.000142  0.000142  0.000142  36.421269\n",
       "2014-02-07 20:45:00  0.000163  0.000163  0.000163  0.000163  42.201153"
      ]
     },
     "execution_count": 5,
     "metadata": {},
     "output_type": "execute_result"
    }
   ],
   "source": [
    "rs_full.head()"
   ]
  },
  {
   "cell_type": "code",
   "execution_count": 6,
   "metadata": {},
   "outputs": [
    {
     "data": {
      "image/png": "[encoded data removed]",
      "text/plain": [
       "<matplotlib.figure.Figure at 0x7f9f351e0048>"
      ]
     },
     "metadata": {},
     "output_type": "display_data"
    }
   ],
   "source": [
    "# f = rs_full.close.plot()"
   ]
  },
  {
   "cell_type": "code",
   "execution_count": 7,
   "metadata": {},
   "outputs": [
    {
     "data": {
      "image/png": "[encoded data removed]",
      "text/plain": [
       "<matplotlib.figure.Figure at 0x7f9ed5991a58>"
      ]
     },
     "metadata": {},
     "output_type": "display_data"
    }
   ],
   "source": [
    "# f = rs_full.iloc[2000:].close.plot()"
   ]
  },
  {
   "cell_type": "code",
   "execution_count": 8,
   "metadata": {},
   "outputs": [
    {
     "data": {
      "image/png": "[encoded data removed]",
      "text/plain": [
       "<matplotlib.figure.Figure at 0x7f9f302eaf60>"
      ]
     },
     "metadata": {},
     "output_type": "display_data"
    }
   ],
   "source": [
    "# f = rs_full.iloc[:2000].close.plot()"
   ]
  },
  {
   "cell_type": "code",
   "execution_count": 9,
   "metadata": {
    "collapsed": true
   },
   "outputs": [],
   "source": [
    "def transform_data(df, mva=30):\n",
    "    \"\"\"\n",
    "    This is for scaling the original data for use in machine learning.\n",
    "\n",
    "    Takes a numpy array as input, divides by a moving average with period mva (integer),\n",
    "    and returns the scaled data as well as the scaler\n",
    "    and moving average (needed for returning the data to its original form).\n",
    "\n",
    "    :param df:\n",
    "    :param mva: moving average period\n",
    "\n",
    "    With minutely OHLCV bars, this takes a 30-min MVA by default.\n",
    "    \"\"\"\n",
    "    scalers = {}\n",
    "    new_df_dict = {}\n",
    "    for c in df.columns:\n",
    "        scalers[c] = SS()\n",
    "        rolling_mean = df[c].rolling(window=mva).mean().bfill()\n",
    "        mva_scaled = df[c] / rolling_mean\n",
    "        # use sklearn scaler to fit and transform scaled values\n",
    "        scaled = scalers[c].fit_transform(mva_scaled.values.reshape(-1, 1))\n",
    "        # need to just grab values from the column for the dataframe to work\n",
    "        new_df_dict[c] = scaled[:, 0]\n",
    "\n",
    "    new_df = pd.DataFrame(new_df_dict)\n",
    "\n",
    "    return new_df, scalers"
   ]
  },
  {
   "cell_type": "code",
   "execution_count": 10,
   "metadata": {
    "collapsed": true
   },
   "outputs": [],
   "source": [
    "rs_full_scaled, scalers = transform_data(rs_full)"
   ]
  },
  {
   "cell_type": "code",
   "execution_count": 11,
   "metadata": {},
   "outputs": [
    {
     "data": {
      "image/png": "[encoded data removed]",
      "text/plain": [
       "<matplotlib.figure.Figure at 0x7f9ee78f5978>"
      ]
     },
     "metadata": {},
     "output_type": "display_data"
    }
   ],
   "source": [
    "f = rs_full_scaled.close.plot()"
   ]
  },
  {
   "cell_type": "code",
   "execution_count": 12,
   "metadata": {
    "collapsed": true
   },
   "outputs": [],
   "source": [
    "def reform_data(df, scaled_df, scalers, mva=30):\n",
    "    \"\"\"\n",
    "    Re-constructs original data from the transformed data.\n",
    "    Requires the dataset number or to specify\n",
    "    that its the original data\n",
    "    \"\"\"\n",
    "    unsc_dict = {}\n",
    "    for c in scaled_df.columns:\n",
    "        unscaled = scalers[c].inverse_transform(scaled_df[c])\n",
    "        rolling_mean = df[c].rolling(window=mva).mean().bfill()\n",
    "        unsc = unscaled * rolling_mean\n",
    "        unsc_dict[c] = unsc\n",
    "    \n",
    "    unsc_df = pd.DataFrame(unsc_dict)\n",
    "    \n",
    "    return unsc_df"
   ]
  },
  {
   "cell_type": "code",
   "execution_count": 13,
   "metadata": {
    "collapsed": true
   },
   "outputs": [],
   "source": [
    "def rescale_data(scaled_df, scalers):\n",
    "    unsc_dict = {}\n",
    "    for c in scaled_df.columns:\n",
    "        unscaled = scalers[c].inverse_transform(scaled_df[c])\n",
    "        unsc_dict[c] = unscaled\n",
    "    \n",
    "    unsc_df = pd.DataFrame(unsc_dict)\n",
    "    \n",
    "    return unsc_df"
   ]
  },
  {
   "cell_type": "code",
   "execution_count": 14,
   "metadata": {
    "collapsed": true
   },
   "outputs": [],
   "source": [
    "def rescale_prediction(prediction, scalers):\n",
    "    \"\"\"\n",
    "    :param prediction: the closing price prediction, which has been scaled\n",
    "    :param scalers: dict of standardscalers used to scale known data\n",
    "    \"\"\"\n",
    "    return scalers['close'].inverse_transform(prediction.reshape(-1, 1))[0][0]"
   ]
  },
  {
   "cell_type": "code",
   "execution_count": 15,
   "metadata": {
    "collapsed": true
   },
   "outputs": [],
   "source": [
    "def unscale_prediction(df, prediction, mva=30):\n",
    "    \"\"\"\n",
    "    :param df: a pandas dataframe of the known data.  This should be the natural data,\n",
    "                not scaled or normalized\n",
    "    :param prediction: rescaled  \n",
    "    \n",
    "    # I think the math on this one was wrong.\n",
    "    \"\"\"\n",
    "    return df.iloc[-mva + 1:].close.sum() / (mva - prediction)"
   ]
  },
  {
   "cell_type": "code",
   "execution_count": 16,
   "metadata": {
    "collapsed": true
   },
   "outputs": [],
   "source": [
    "def unscale_prediction(df, prediction, mva=30):\n",
    "    \"\"\"\n",
    "    :param df: a pandas dataframe of the known data.  This should be the natural data,\n",
    "                not scaled or normalized\n",
    "    :param prediction: rescaled  \n",
    "    \"\"\"\n",
    "    return df.iloc[-mva + 1:].close.sum() / (mva / prediction - 1)"
   ]
  },
  {
   "cell_type": "code",
   "execution_count": 17,
   "metadata": {
    "collapsed": true
   },
   "outputs": [],
   "source": [
    "unsc_df = reform_data(rs_full, rs_full_scaled, scalers)"
   ]
  },
  {
   "cell_type": "code",
   "execution_count": 18,
   "metadata": {},
   "outputs": [
    {
     "data": {
      "text/plain": [
       "True"
      ]
     },
     "execution_count": 18,
     "metadata": {},
     "output_type": "execute_result"
    }
   ],
   "source": [
    "np.allclose(unsc_df.close, rs_full.close)"
   ]
  },
  {
   "cell_type": "markdown",
   "metadata": {},
   "source": [
    "# now prototype unscaling future predictions without a known moving average"
   ]
  },
  {
   "cell_type": "code",
   "execution_count": 19,
   "metadata": {
    "collapsed": true
   },
   "outputs": [],
   "source": [
    "known_df = rs_full.iloc[:-2000]\n",
    "unk_df = rs_full.iloc[-2000:]"
   ]
  },
  {
   "cell_type": "code",
   "execution_count": 20,
   "metadata": {
    "collapsed": true
   },
   "outputs": [],
   "source": [
    "known_scaled, scalers = transform_data(known_df)"
   ]
  },
  {
   "cell_type": "code",
   "execution_count": 21,
   "metadata": {
    "collapsed": true
   },
   "outputs": [],
   "source": [
    "known_resc = reform_data(known_df, known_scaled, scalers)"
   ]
  },
  {
   "cell_type": "code",
   "execution_count": 22,
   "metadata": {},
   "outputs": [
    {
     "data": {
      "text/plain": [
       "True"
      ]
     },
     "execution_count": 22,
     "metadata": {},
     "output_type": "execute_result"
    }
   ],
   "source": [
    "np.allclose(known_resc.close, known_df.close)"
   ]
  },
  {
   "cell_type": "code",
   "execution_count": 23,
   "metadata": {
    "collapsed": true
   },
   "outputs": [],
   "source": [
    "rs_full_scaled, _ = transform_data(rs_full)"
   ]
  },
  {
   "cell_type": "code",
   "execution_count": 24,
   "metadata": {
    "collapsed": true
   },
   "outputs": [],
   "source": [
    "unk_unsc = rescale_data(rs_full_scaled[-2000:], scalers)"
   ]
  },
  {
   "cell_type": "markdown",
   "metadata": {},
   "source": [
    "# see if we can get the first point right without using the actual MVA"
   ]
  },
  {
   "cell_type": "code",
   "execution_count": 25,
   "metadata": {},
   "outputs": [
    {
     "data": {
      "text/plain": [
       "0.076498269999999993"
      ]
     },
     "execution_count": 25,
     "metadata": {},
     "output_type": "execute_result"
    }
   ],
   "source": [
    "unk_df.iloc[0].close"
   ]
  },
  {
   "cell_type": "code",
   "execution_count": 26,
   "metadata": {},
   "outputs": [
    {
     "data": {
      "text/plain": [
       "0.076498269999999993"
      ]
     },
     "execution_count": 26,
     "metadata": {},
     "output_type": "execute_result"
    }
   ],
   "source": [
    "rs_full.iloc[-2000].close"
   ]
  },
  {
   "cell_type": "code",
   "execution_count": 27,
   "metadata": {},
   "outputs": [
    {
     "data": {
      "text/plain": [
       "0.10332131896874668"
      ]
     },
     "execution_count": 27,
     "metadata": {},
     "output_type": "execute_result"
    }
   ],
   "source": [
    "rs_full_scaled.iloc[-2000].close"
   ]
  },
  {
   "cell_type": "code",
   "execution_count": 28,
   "metadata": {},
   "outputs": [
    {
     "data": {
      "text/plain": [
       "1.0011547368967713"
      ]
     },
     "execution_count": 28,
     "metadata": {},
     "output_type": "execute_result"
    }
   ],
   "source": [
    "unk_unsc.iloc[0].close"
   ]
  },
  {
   "cell_type": "code",
   "execution_count": 29,
   "metadata": {},
   "outputs": [
    {
     "data": {
      "text/plain": [
       "0.076410084777385437"
      ]
     },
     "execution_count": 29,
     "metadata": {},
     "output_type": "execute_result"
    }
   ],
   "source": [
    "known_df.iloc[-29:].close.sum() / (30 - unk_unsc.iloc[0].close)"
   ]
  },
  {
   "cell_type": "code",
   "execution_count": 30,
   "metadata": {},
   "outputs": [
    {
     "data": {
      "text/plain": [
       "0.076498269999999993"
      ]
     },
     "execution_count": 30,
     "metadata": {},
     "output_type": "execute_result"
    }
   ],
   "source": [
    "unk_df.iloc[0].close"
   ]
  },
  {
   "cell_type": "code",
   "execution_count": 31,
   "metadata": {},
   "outputs": [
    {
     "data": {
      "text/plain": [
       "False"
      ]
     },
     "execution_count": 31,
     "metadata": {},
     "output_type": "execute_result"
    }
   ],
   "source": [
    "np.allclose(known_df.iloc[-29:].close.sum() / (30 - unk_unsc.iloc[0].close), unk_df.iloc[0].close)"
   ]
  },
  {
   "cell_type": "code",
   "execution_count": 32,
   "metadata": {},
   "outputs": [
    {
     "data": {
      "text/plain": [
       "-8.8185222614556302e-05"
      ]
     },
     "execution_count": 32,
     "metadata": {},
     "output_type": "execute_result"
    }
   ],
   "source": [
    "known_df.iloc[-29:].close.sum() / (30 - unk_unsc.iloc[0].close) - unk_df.iloc[0].close"
   ]
  },
  {
   "cell_type": "code",
   "execution_count": 33,
   "metadata": {},
   "outputs": [
    {
     "data": {
      "text/plain": [
       "-0.0011527740773033992"
      ]
     },
     "execution_count": 33,
     "metadata": {},
     "output_type": "execute_result"
    }
   ],
   "source": [
    "(known_df.iloc[-29:].close.sum() / (30 - unk_unsc.iloc[0].close) - unk_df.iloc[0].close) / unk_df.iloc[0].close"
   ]
  },
  {
   "cell_type": "markdown",
   "metadata": {},
   "source": [
    "# so it's off by 0.1%...meh"
   ]
  },
  {
   "cell_type": "code",
   "execution_count": 34,
   "metadata": {},
   "outputs": [
    {
     "data": {
      "text/plain": [
       "2.2158042249999998"
      ]
     },
     "execution_count": 34,
     "metadata": {},
     "output_type": "execute_result"
    }
   ],
   "source": [
    "known_df.iloc[-29:].close.sum()"
   ]
  },
  {
   "cell_type": "code",
   "execution_count": 35,
   "metadata": {},
   "outputs": [
    {
     "data": {
      "text/plain": [
       "-0.034642106903137737"
      ]
     },
     "execution_count": 35,
     "metadata": {},
     "output_type": "execute_result"
    }
   ],
   "source": [
    "(30 * (1-unk_unsc.iloc[0].close))"
   ]
  },
  {
   "cell_type": "code",
   "execution_count": 36,
   "metadata": {},
   "outputs": [
    {
     "data": {
      "text/plain": [
       "591.5986301369863"
      ]
     },
     "execution_count": 36,
     "metadata": {},
     "output_type": "execute_result"
    }
   ],
   "source": [
    "43.1867/0.073"
   ]
  },
  {
   "cell_type": "code",
   "execution_count": 37,
   "metadata": {},
   "outputs": [
    {
     "data": {
      "text/plain": [
       "0.07641008316666667"
      ]
     },
     "execution_count": 37,
     "metadata": {},
     "output_type": "execute_result"
    }
   ],
   "source": [
    "rs_full.iloc[-2029:-1999].close.sum()/30"
   ]
  },
  {
   "cell_type": "code",
   "execution_count": 38,
   "metadata": {},
   "outputs": [
    {
     "data": {
      "text/plain": [
       "0.076498316708984576"
      ]
     },
     "execution_count": 38,
     "metadata": {},
     "output_type": "execute_result"
    }
   ],
   "source": [
    "rs_full.iloc[-2029:-1999].close.sum()/30 * unk_unsc.iloc[0].close"
   ]
  },
  {
   "cell_type": "code",
   "execution_count": 39,
   "metadata": {},
   "outputs": [
    {
     "data": {
      "text/plain": [
       "0.076498269999999993"
      ]
     },
     "execution_count": 39,
     "metadata": {},
     "output_type": "execute_result"
    }
   ],
   "source": [
    "unk_df.iloc[0].close"
   ]
  },
  {
   "cell_type": "code",
   "execution_count": 40,
   "metadata": {},
   "outputs": [
    {
     "data": {
      "text/plain": [
       "True"
      ]
     },
     "execution_count": 40,
     "metadata": {},
     "output_type": "execute_result"
    }
   ],
   "source": [
    "np.allclose(rs_full.iloc[-2029:-1999].close.sum()/30 * unk_unsc.iloc[0].close, unk_df.iloc[0].close)"
   ]
  },
  {
   "cell_type": "code",
   "execution_count": 41,
   "metadata": {},
   "outputs": [
    {
     "data": {
      "text/plain": [
       "4.6708984582921609e-08"
      ]
     },
     "execution_count": 41,
     "metadata": {},
     "output_type": "execute_result"
    }
   ],
   "source": [
    "rs_full.iloc[-2029:-1999].close.sum()/30 * unk_unsc.iloc[0].close - unk_df.iloc[0].close"
   ]
  },
  {
   "cell_type": "markdown",
   "metadata": {},
   "source": [
    "# test the new functions"
   ]
  },
  {
   "cell_type": "code",
   "execution_count": 42,
   "metadata": {
    "collapsed": true
   },
   "outputs": [],
   "source": [
    "prediction = rescale_prediction(rs_full_scaled.iloc[-2000].close, scalers)"
   ]
  },
  {
   "cell_type": "code",
   "execution_count": 43,
   "metadata": {},
   "outputs": [
    {
     "data": {
      "text/plain": [
       "1.0011547368967713"
      ]
     },
     "execution_count": 43,
     "metadata": {},
     "output_type": "execute_result"
    }
   ],
   "source": [
    "prediction"
   ]
  },
  {
   "cell_type": "code",
   "execution_count": 44,
   "metadata": {},
   "outputs": [
    {
     "data": {
      "text/plain": [
       "0.076498318321563299"
      ]
     },
     "execution_count": 44,
     "metadata": {},
     "output_type": "execute_result"
    }
   ],
   "source": [
    "unsc_pred = unscale_prediction(known_df, prediction)\n",
    "unsc_pred"
   ]
  },
  {
   "cell_type": "code",
   "execution_count": 45,
   "metadata": {},
   "outputs": [
    {
     "data": {
      "text/plain": [
       "0.076498269999999993"
      ]
     },
     "execution_count": 45,
     "metadata": {},
     "output_type": "execute_result"
    }
   ],
   "source": [
    "actual = rs_full.iloc[-2000].close\n",
    "actual"
   ]
  },
  {
   "cell_type": "code",
   "execution_count": 46,
   "metadata": {},
   "outputs": [
    {
     "data": {
      "text/plain": [
       "6.3166830809445327e-05"
      ]
     },
     "execution_count": 46,
     "metadata": {},
     "output_type": "execute_result"
    }
   ],
   "source": [
    "# so 0.16% off here\n",
    "(unsc_pred - actual) / unsc_pred * 100"
   ]
  },
  {
   "cell_type": "markdown",
   "metadata": {},
   "source": [
    "# Now, just to make sure, test on the last 2000 points"
   ]
  },
  {
   "cell_type": "code",
   "execution_count": 47,
   "metadata": {
    "collapsed": true
   },
   "outputs": [],
   "source": [
    "all_u_preds = []\n",
    "pct_diffs = []\n",
    "# goes from -2000 to -1 in steps of 1\n",
    "for i in range(-1000, 0, 1):\n",
    "    known_df = rs_full.iloc[-10000:i]\n",
    "    known_scaled, scalers = transform_data(known_df)\n",
    "    prediction = rescale_prediction(rs_full_scaled.iloc[i].close, scalers)\n",
    "    unsc_pred = unscale_prediction(known_df, prediction)\n",
    "    all_u_preds.append(unsc_pred)\n",
    "    pct_diffs.append((unsc_pred - rs_full.iloc[i].close) / unsc_pred * 100)"
   ]
  },
  {
   "cell_type": "code",
   "execution_count": 48,
   "metadata": {},
   "outputs": [
    {
     "data": {
      "image/png": "[encoded data removed]",
      "text/plain": [
       "<matplotlib.figure.Figure at 0x7f9edf7fd630>"
      ]
     },
     "metadata": {},
     "output_type": "display_data"
    }
   ],
   "source": [
    "f = plt.plot(all_u_preds, label='preds')\n",
    "f = plt.plot(rs_full.iloc[-1000:-1].close.values, label='actual')\n",
    "l = plt.legend()"
   ]
  },
  {
   "cell_type": "code",
   "execution_count": 49,
   "metadata": {},
   "outputs": [
    {
     "data": {
      "image/png": "[encoded data removed]",
      "text/plain": [
       "<matplotlib.figure.Figure at 0x7f9ed7397978>"
      ]
     },
     "metadata": {},
     "output_type": "display_data"
    }
   ],
   "source": [
    "f = plt.plot(pct_diffs)"
   ]
  },
  {
   "cell_type": "markdown",
   "metadata": {},
   "source": [
    "# looks like it's off by about +/-1% at most.  Not super great, but acceptable enough to move on"
   ]
  }
 ],
 "metadata": {
  "kernelspec": {
   "display_name": "Python 3",
   "language": "python",
   "name": "python3"
  },
  "language_info": {
   "codemirror_mode": {
    "name": "ipython",
    "version": 3
   },
   "file_extension": ".py",
   "mimetype": "text/x-python",
   "name": "python",
   "nbconvert_exporter": "python",
   "pygments_lexer": "ipython3",
   "version": "3.5.2"
  }
 },
 "nbformat": 4,
 "nbformat_minor": 2
}
