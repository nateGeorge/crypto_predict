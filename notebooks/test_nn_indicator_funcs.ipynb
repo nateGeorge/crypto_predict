{
 "cells": [
  {
   "cell_type": "code",
   "execution_count": 1,
   "metadata": {},
   "outputs": [],
   "source": [
    "# core\n",
    "import sys\n",
    "\n",
    "# custom\n",
    "sys.path.append('../code')\n",
    "sys.path.append('../code/poloniex')\n",
    "import prep_for_nn as pfn"
   ]
  },
  {
   "cell_type": "code",
   "execution_count": 2,
   "metadata": {},
   "outputs": [
    {
     "name": "stdout",
     "output_type": "stream",
     "text": [
      "loading...\n"
     ]
    }
   ],
   "source": [
    "xform_train, xform_test, train_targs, test_targs = pfn.prep_polo_nn()"
   ]
  },
  {
   "cell_type": "code",
   "execution_count": 2,
   "metadata": {},
   "outputs": [
    {
     "name": "stdout",
     "output_type": "stream",
     "text": [
      "creating new...\n",
      "using multiplier of 100000\n"
     ]
    },
    {
     "name": "stderr",
     "output_type": "stream",
     "text": [
      "100%|██████████| 21618/21618 [04:57<00:00, 72.77it/s]\n",
      "100%|██████████| 5000/5000 [01:09<00:00, 71.70it/s]\n"
     ]
    }
   ],
   "source": [
    "xform_train2, xform_test2, train_targs2, test_targs2 = pfn.prep_polo_nn('BTC_XRP')"
   ]
  },
  {
   "cell_type": "code",
   "execution_count": null,
   "metadata": {},
   "outputs": [],
   "source": []
  }
 ],
 "metadata": {
  "kernelspec": {
   "display_name": "Python 3",
   "language": "python",
   "name": "python3"
  },
  "language_info": {
   "codemirror_mode": {
    "name": "ipython",
    "version": 3
   },
   "file_extension": ".py",
   "mimetype": "text/x-python",
   "name": "python",
   "nbconvert_exporter": "python",
   "pygments_lexer": "ipython3",
   "version": "3.5.2"
  }
 },
 "nbformat": 4,
 "nbformat_minor": 2
}
