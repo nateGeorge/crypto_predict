{
 "cells": [
  {
   "cell_type": "code",
   "execution_count": null,
   "metadata": {
    "collapsed": true
   },
   "outputs": [],
   "source": []
  },
  {
   "cell_type": "code",
   "execution_count": null,
   "metadata": {
    "collapsed": true
   },
   "outputs": [],
   "source": [
    "feats, targs = create_hist_feats_all({'BTC_DASH': rs_full_scaled.iloc[-2000:]})"
   ]
  },
  {
   "cell_type": "code",
   "execution_count": null,
   "metadata": {
    "collapsed": true
   },
   "outputs": [],
   "source": [
    "def create_hist_feats_all(dfs, history=300, future=5):\n",
    "    \"\"\"\n",
    "    Creates features from historical data, but creates features up to the most\n",
    "    current date available.  Assumes dataframe goes from\n",
    "    oldest date at .iloc[0] to newest date at .iloc[-1]\n",
    "    :param dfs: list of dataframes with market/security as key\n",
    "    :param history_days: number of points to use for prediction\n",
    "    :param future_days: points in the future we want to predict for\n",
    "    :returns:\n",
    "\n",
    "    The default assumes the data has been resampled to OHLCV at minutely\n",
    "    resolution.  So we are using 300 minutes (6 hours) to predict 3 hours in\n",
    "    the future.\n",
    "    \"\"\"\n",
    "    columns = ['open', 'high', 'low', 'close', 'volume']\n",
    "    target_col = 'close'\n",
    "    feats = {}\n",
    "    targs = {}\n",
    "    for s in dfs.keys():\n",
    "        data_points = dfs[s].shape[0]\n",
    "        # create time-lagged features\n",
    "        features = []\n",
    "        targets = []\n",
    "        for i in range(history, data_points - future):\n",
    "            features.append(dfs[s].iloc[i - history:i][columns].values)\n",
    "            targets.append(dfs[s].iloc[i + future][target_col])\n",
    "\n",
    "        feats[s] = np.array(features)\n",
    "        # make the targets a column vector\n",
    "        targs[s] = np.array(targets).reshape(-1, 1)\n",
    "\n",
    "    return feats, targs"
   ]
  }
 ],
 "metadata": {
  "kernelspec": {
   "display_name": "Python 3",
   "language": "python",
   "name": "python3"
  },
  "language_info": {
   "codemirror_mode": {
    "name": "ipython",
    "version": 3
   },
   "file_extension": ".py",
   "mimetype": "text/x-python",
   "name": "python",
   "nbconvert_exporter": "python",
   "pygments_lexer": "ipython3",
   "version": "3.5.2"
  }
 },
 "nbformat": 4,
 "nbformat_minor": 2
}
