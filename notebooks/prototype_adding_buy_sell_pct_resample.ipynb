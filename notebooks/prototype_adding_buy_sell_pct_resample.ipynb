{
 "cells": [
  {
   "cell_type": "code",
   "execution_count": 2,
   "metadata": {
    "collapsed": true
   },
   "outputs": [],
   "source": [
    "# core\n",
    "import sys\n",
    "import time\n",
    "\n",
    "# custom\n",
    "sys.path.append('../code/poloniex')\n",
    "import polo_eda as pe\n",
    "\n",
    "# installed\n",
    "import pandas as pd\n",
    "import numpy as np\n",
    "\n",
    "# plotting\n",
    "import matplotlib.pyplot as plt\n",
    "%matplotlib inline"
   ]
  },
  {
   "cell_type": "code",
   "execution_count": 3,
   "metadata": {
    "collapsed": true
   },
   "outputs": [],
   "source": [
    "df = pe.read_trade_hist('BTC_AMP')"
   ]
  },
  {
   "cell_type": "code",
   "execution_count": 4,
   "metadata": {},
   "outputs": [
    {
     "data": {
      "text/html": [
       "<div>\n",
       "<style>\n",
       "    .dataframe thead tr:only-child th {\n",
       "        text-align: right;\n",
       "    }\n",
       "\n",
       "    .dataframe thead th {\n",
       "        text-align: left;\n",
       "    }\n",
       "\n",
       "    .dataframe tbody tr th {\n",
       "        vertical-align: top;\n",
       "    }\n",
       "</style>\n",
       "<table border=\"1\" class=\"dataframe\">\n",
       "  <thead>\n",
       "    <tr style=\"text-align: right;\">\n",
       "      <th></th>\n",
       "      <th>amount</th>\n",
       "      <th>globalTradeID</th>\n",
       "      <th>rate</th>\n",
       "      <th>total</th>\n",
       "      <th>tradeID</th>\n",
       "      <th>type</th>\n",
       "    </tr>\n",
       "    <tr>\n",
       "      <th>date</th>\n",
       "      <th></th>\n",
       "      <th></th>\n",
       "      <th></th>\n",
       "      <th></th>\n",
       "      <th></th>\n",
       "      <th></th>\n",
       "    </tr>\n",
       "  </thead>\n",
       "  <tbody>\n",
       "    <tr>\n",
       "      <th>2016-04-03 05:53:09</th>\n",
       "      <td>73.990725</td>\n",
       "      <td>24874739</td>\n",
       "      <td>0.000400</td>\n",
       "      <td>0.029596</td>\n",
       "      <td>1</td>\n",
       "      <td>sell</td>\n",
       "    </tr>\n",
       "    <tr>\n",
       "      <th>2016-04-03 05:53:09</th>\n",
       "      <td>298.963484</td>\n",
       "      <td>24874743</td>\n",
       "      <td>0.000110</td>\n",
       "      <td>0.032886</td>\n",
       "      <td>5</td>\n",
       "      <td>sell</td>\n",
       "    </tr>\n",
       "    <tr>\n",
       "      <th>2016-04-03 05:53:09</th>\n",
       "      <td>2161.343800</td>\n",
       "      <td>24874740</td>\n",
       "      <td>0.000150</td>\n",
       "      <td>0.324202</td>\n",
       "      <td>2</td>\n",
       "      <td>sell</td>\n",
       "    </tr>\n",
       "    <tr>\n",
       "      <th>2016-04-03 05:53:09</th>\n",
       "      <td>250.425364</td>\n",
       "      <td>24874741</td>\n",
       "      <td>0.000131</td>\n",
       "      <td>0.032681</td>\n",
       "      <td>3</td>\n",
       "      <td>sell</td>\n",
       "    </tr>\n",
       "    <tr>\n",
       "      <th>2016-04-03 05:53:09</th>\n",
       "      <td>806.022746</td>\n",
       "      <td>24874742</td>\n",
       "      <td>0.000130</td>\n",
       "      <td>0.104888</td>\n",
       "      <td>4</td>\n",
       "      <td>sell</td>\n",
       "    </tr>\n",
       "  </tbody>\n",
       "</table>\n",
       "</div>"
      ],
      "text/plain": [
       "                          amount  globalTradeID      rate     total  tradeID  \\\n",
       "date                                                                           \n",
       "2016-04-03 05:53:09    73.990725       24874739  0.000400  0.029596        1   \n",
       "2016-04-03 05:53:09   298.963484       24874743  0.000110  0.032886        5   \n",
       "2016-04-03 05:53:09  2161.343800       24874740  0.000150  0.324202        2   \n",
       "2016-04-03 05:53:09   250.425364       24874741  0.000131  0.032681        3   \n",
       "2016-04-03 05:53:09   806.022746       24874742  0.000130  0.104888        4   \n",
       "\n",
       "                     type  \n",
       "date                       \n",
       "2016-04-03 05:53:09  sell  \n",
       "2016-04-03 05:53:09  sell  \n",
       "2016-04-03 05:53:09  sell  \n",
       "2016-04-03 05:53:09  sell  \n",
       "2016-04-03 05:53:09  sell  "
      ]
     },
     "execution_count": 4,
     "metadata": {},
     "output_type": "execute_result"
    }
   ],
   "source": [
    "df.head()"
   ]
  },
  {
   "cell_type": "code",
   "execution_count": 17,
   "metadata": {
    "collapsed": true
   },
   "outputs": [],
   "source": [
    "df['dir_mult'] = 1"
   ]
  },
  {
   "cell_type": "code",
   "execution_count": 19,
   "metadata": {},
   "outputs": [],
   "source": [
    "df.loc[df['type'] == 'sell', 'dir_mult'] = -1 "
   ]
  },
  {
   "cell_type": "code",
   "execution_count": 20,
   "metadata": {},
   "outputs": [
    {
     "data": {
      "text/plain": [
       "-1    760307\n",
       " 1    758891\n",
       "Name: dir_mult, dtype: int64"
      ]
     },
     "execution_count": 20,
     "metadata": {},
     "output_type": "execute_result"
    }
   ],
   "source": [
    "df['dir_mult'].value_counts()"
   ]
  },
  {
   "cell_type": "code",
   "execution_count": 21,
   "metadata": {},
   "outputs": [
    {
     "data": {
      "text/plain": [
       "sell    760307\n",
       "buy     758891\n",
       "Name: type, dtype: int64"
      ]
     },
     "execution_count": 21,
     "metadata": {},
     "output_type": "execute_result"
    }
   ],
   "source": [
    "df['type'].value_counts()"
   ]
  },
  {
   "cell_type": "code",
   "execution_count": 23,
   "metadata": {},
   "outputs": [],
   "source": [
    "df['direction_volume'] = df['dir_mult'] * df['amount']"
   ]
  },
  {
   "cell_type": "code",
   "execution_count": 24,
   "metadata": {},
   "outputs": [
    {
     "data": {
      "text/html": [
       "<div>\n",
       "<style>\n",
       "    .dataframe thead tr:only-child th {\n",
       "        text-align: right;\n",
       "    }\n",
       "\n",
       "    .dataframe thead th {\n",
       "        text-align: left;\n",
       "    }\n",
       "\n",
       "    .dataframe tbody tr th {\n",
       "        vertical-align: top;\n",
       "    }\n",
       "</style>\n",
       "<table border=\"1\" class=\"dataframe\">\n",
       "  <thead>\n",
       "    <tr style=\"text-align: right;\">\n",
       "      <th></th>\n",
       "      <th>amount</th>\n",
       "      <th>globalTradeID</th>\n",
       "      <th>rate</th>\n",
       "      <th>total</th>\n",
       "      <th>tradeID</th>\n",
       "      <th>type</th>\n",
       "      <th>direction_amt</th>\n",
       "      <th>dir_mult</th>\n",
       "    </tr>\n",
       "    <tr>\n",
       "      <th>date</th>\n",
       "      <th></th>\n",
       "      <th></th>\n",
       "      <th></th>\n",
       "      <th></th>\n",
       "      <th></th>\n",
       "      <th></th>\n",
       "      <th></th>\n",
       "      <th></th>\n",
       "    </tr>\n",
       "  </thead>\n",
       "  <tbody>\n",
       "    <tr>\n",
       "      <th>2016-04-03 05:53:09</th>\n",
       "      <td>73.990725</td>\n",
       "      <td>24874739</td>\n",
       "      <td>0.000400</td>\n",
       "      <td>0.029596</td>\n",
       "      <td>1</td>\n",
       "      <td>sell</td>\n",
       "      <td>-73.990725</td>\n",
       "      <td>-1</td>\n",
       "    </tr>\n",
       "    <tr>\n",
       "      <th>2016-04-03 05:53:09</th>\n",
       "      <td>298.963484</td>\n",
       "      <td>24874743</td>\n",
       "      <td>0.000110</td>\n",
       "      <td>0.032886</td>\n",
       "      <td>5</td>\n",
       "      <td>sell</td>\n",
       "      <td>-298.963484</td>\n",
       "      <td>-1</td>\n",
       "    </tr>\n",
       "    <tr>\n",
       "      <th>2016-04-03 05:53:09</th>\n",
       "      <td>2161.343800</td>\n",
       "      <td>24874740</td>\n",
       "      <td>0.000150</td>\n",
       "      <td>0.324202</td>\n",
       "      <td>2</td>\n",
       "      <td>sell</td>\n",
       "      <td>-2161.343800</td>\n",
       "      <td>-1</td>\n",
       "    </tr>\n",
       "    <tr>\n",
       "      <th>2016-04-03 05:53:09</th>\n",
       "      <td>250.425364</td>\n",
       "      <td>24874741</td>\n",
       "      <td>0.000131</td>\n",
       "      <td>0.032681</td>\n",
       "      <td>3</td>\n",
       "      <td>sell</td>\n",
       "      <td>-250.425364</td>\n",
       "      <td>-1</td>\n",
       "    </tr>\n",
       "    <tr>\n",
       "      <th>2016-04-03 05:53:09</th>\n",
       "      <td>806.022746</td>\n",
       "      <td>24874742</td>\n",
       "      <td>0.000130</td>\n",
       "      <td>0.104888</td>\n",
       "      <td>4</td>\n",
       "      <td>sell</td>\n",
       "      <td>-806.022746</td>\n",
       "      <td>-1</td>\n",
       "    </tr>\n",
       "  </tbody>\n",
       "</table>\n",
       "</div>"
      ],
      "text/plain": [
       "                          amount  globalTradeID      rate     total  tradeID  \\\n",
       "date                                                                           \n",
       "2016-04-03 05:53:09    73.990725       24874739  0.000400  0.029596        1   \n",
       "2016-04-03 05:53:09   298.963484       24874743  0.000110  0.032886        5   \n",
       "2016-04-03 05:53:09  2161.343800       24874740  0.000150  0.324202        2   \n",
       "2016-04-03 05:53:09   250.425364       24874741  0.000131  0.032681        3   \n",
       "2016-04-03 05:53:09   806.022746       24874742  0.000130  0.104888        4   \n",
       "\n",
       "                     type  direction_amt  dir_mult  \n",
       "date                                                \n",
       "2016-04-03 05:53:09  sell     -73.990725        -1  \n",
       "2016-04-03 05:53:09  sell    -298.963484        -1  \n",
       "2016-04-03 05:53:09  sell   -2161.343800        -1  \n",
       "2016-04-03 05:53:09  sell    -250.425364        -1  \n",
       "2016-04-03 05:53:09  sell    -806.022746        -1  "
      ]
     },
     "execution_count": 24,
     "metadata": {},
     "output_type": "execute_result"
    }
   ],
   "source": [
    "df.head()"
   ]
  },
  {
   "cell_type": "code",
   "execution_count": 25,
   "metadata": {
    "collapsed": true
   },
   "outputs": [],
   "source": [
    "# minutely resample\n",
    "resamp='T'"
   ]
  },
  {
   "cell_type": "code",
   "execution_count": 26,
   "metadata": {
    "collapsed": true
   },
   "outputs": [],
   "source": [
    "rs = df['rate'].resample(resamp).ohlc().interpolate()"
   ]
  },
  {
   "cell_type": "code",
   "execution_count": 27,
   "metadata": {},
   "outputs": [],
   "source": [
    "rs_vol = pd.DataFrame(df['amount'].resample(resamp).sum().interpolate())"
   ]
  },
  {
   "cell_type": "code",
   "execution_count": 28,
   "metadata": {
    "collapsed": true
   },
   "outputs": [],
   "source": [
    "rs_dir_amt = pd.DataFrame(df['direction_amt'].resample(resamp).sum().interpolate())"
   ]
  },
  {
   "cell_type": "code",
   "execution_count": 29,
   "metadata": {
    "collapsed": true
   },
   "outputs": [],
   "source": [
    "rs_vol.rename(columns={'amount': 'volume'}, inplace=True)"
   ]
  },
  {
   "cell_type": "code",
   "execution_count": 30,
   "metadata": {},
   "outputs": [
    {
     "data": {
      "text/html": [
       "<div>\n",
       "<style>\n",
       "    .dataframe thead tr:only-child th {\n",
       "        text-align: right;\n",
       "    }\n",
       "\n",
       "    .dataframe thead th {\n",
       "        text-align: left;\n",
       "    }\n",
       "\n",
       "    .dataframe tbody tr th {\n",
       "        vertical-align: top;\n",
       "    }\n",
       "</style>\n",
       "<table border=\"1\" class=\"dataframe\">\n",
       "  <thead>\n",
       "    <tr style=\"text-align: right;\">\n",
       "      <th></th>\n",
       "      <th>direction_amt</th>\n",
       "    </tr>\n",
       "    <tr>\n",
       "      <th>date</th>\n",
       "      <th></th>\n",
       "    </tr>\n",
       "  </thead>\n",
       "  <tbody>\n",
       "    <tr>\n",
       "      <th>2016-04-03 05:53:00</th>\n",
       "      <td>-2046.289377</td>\n",
       "    </tr>\n",
       "    <tr>\n",
       "      <th>2016-04-03 05:54:00</th>\n",
       "      <td>-842.510377</td>\n",
       "    </tr>\n",
       "    <tr>\n",
       "      <th>2016-04-03 05:55:00</th>\n",
       "      <td>361.268623</td>\n",
       "    </tr>\n",
       "    <tr>\n",
       "      <th>2016-04-03 05:56:00</th>\n",
       "      <td>50.397405</td>\n",
       "    </tr>\n",
       "    <tr>\n",
       "      <th>2016-04-03 05:57:00</th>\n",
       "      <td>1.673480</td>\n",
       "    </tr>\n",
       "  </tbody>\n",
       "</table>\n",
       "</div>"
      ],
      "text/plain": [
       "                     direction_amt\n",
       "date                              \n",
       "2016-04-03 05:53:00   -2046.289377\n",
       "2016-04-03 05:54:00    -842.510377\n",
       "2016-04-03 05:55:00     361.268623\n",
       "2016-04-03 05:56:00      50.397405\n",
       "2016-04-03 05:57:00       1.673480"
      ]
     },
     "execution_count": 30,
     "metadata": {},
     "output_type": "execute_result"
    }
   ],
   "source": [
    "rs_dir_amt.head()"
   ]
  },
  {
   "cell_type": "code",
   "execution_count": 31,
   "metadata": {
    "collapsed": true
   },
   "outputs": [],
   "source": [
    "rs_full = rs.merge(rs_vol, left_index=True, right_index=True)"
   ]
  },
  {
   "cell_type": "code",
   "execution_count": 32,
   "metadata": {
    "collapsed": true
   },
   "outputs": [],
   "source": [
    "rs_full = rs_full.merge(rs_dir_amt, left_index=True, right_index=True)"
   ]
  },
  {
   "cell_type": "code",
   "execution_count": 33,
   "metadata": {},
   "outputs": [
    {
     "data": {
      "text/html": [
       "<div>\n",
       "<style>\n",
       "    .dataframe thead tr:only-child th {\n",
       "        text-align: right;\n",
       "    }\n",
       "\n",
       "    .dataframe thead th {\n",
       "        text-align: left;\n",
       "    }\n",
       "\n",
       "    .dataframe tbody tr th {\n",
       "        vertical-align: top;\n",
       "    }\n",
       "</style>\n",
       "<table border=\"1\" class=\"dataframe\">\n",
       "  <thead>\n",
       "    <tr style=\"text-align: right;\">\n",
       "      <th></th>\n",
       "      <th>open</th>\n",
       "      <th>high</th>\n",
       "      <th>low</th>\n",
       "      <th>close</th>\n",
       "      <th>volume</th>\n",
       "      <th>direction_amt</th>\n",
       "    </tr>\n",
       "    <tr>\n",
       "      <th>date</th>\n",
       "      <th></th>\n",
       "      <th></th>\n",
       "      <th></th>\n",
       "      <th></th>\n",
       "      <th></th>\n",
       "      <th></th>\n",
       "    </tr>\n",
       "  </thead>\n",
       "  <tbody>\n",
       "    <tr>\n",
       "      <th>2016-04-03 05:53:00</th>\n",
       "      <td>0.000400</td>\n",
       "      <td>0.000400</td>\n",
       "      <td>0.00011</td>\n",
       "      <td>0.000300</td>\n",
       "      <td>5135.202861</td>\n",
       "      <td>-2046.289377</td>\n",
       "    </tr>\n",
       "    <tr>\n",
       "      <th>2016-04-03 05:54:00</th>\n",
       "      <td>0.000325</td>\n",
       "      <td>0.000325</td>\n",
       "      <td>0.00018</td>\n",
       "      <td>0.000275</td>\n",
       "      <td>2748.235742</td>\n",
       "      <td>-842.510377</td>\n",
       "    </tr>\n",
       "    <tr>\n",
       "      <th>2016-04-03 05:55:00</th>\n",
       "      <td>0.000250</td>\n",
       "      <td>0.000250</td>\n",
       "      <td>0.00025</td>\n",
       "      <td>0.000250</td>\n",
       "      <td>361.268623</td>\n",
       "      <td>361.268623</td>\n",
       "    </tr>\n",
       "    <tr>\n",
       "      <th>2016-04-03 05:56:00</th>\n",
       "      <td>0.000250</td>\n",
       "      <td>0.000250</td>\n",
       "      <td>0.00024</td>\n",
       "      <td>0.000240</td>\n",
       "      <td>50.397405</td>\n",
       "      <td>50.397405</td>\n",
       "    </tr>\n",
       "    <tr>\n",
       "      <th>2016-04-03 05:57:00</th>\n",
       "      <td>0.000230</td>\n",
       "      <td>0.000230</td>\n",
       "      <td>0.00023</td>\n",
       "      <td>0.000230</td>\n",
       "      <td>1.673480</td>\n",
       "      <td>1.673480</td>\n",
       "    </tr>\n",
       "  </tbody>\n",
       "</table>\n",
       "</div>"
      ],
      "text/plain": [
       "                         open      high      low     close       volume  \\\n",
       "date                                                                      \n",
       "2016-04-03 05:53:00  0.000400  0.000400  0.00011  0.000300  5135.202861   \n",
       "2016-04-03 05:54:00  0.000325  0.000325  0.00018  0.000275  2748.235742   \n",
       "2016-04-03 05:55:00  0.000250  0.000250  0.00025  0.000250   361.268623   \n",
       "2016-04-03 05:56:00  0.000250  0.000250  0.00024  0.000240    50.397405   \n",
       "2016-04-03 05:57:00  0.000230  0.000230  0.00023  0.000230     1.673480   \n",
       "\n",
       "                     direction_amt  \n",
       "date                                \n",
       "2016-04-03 05:53:00   -2046.289377  \n",
       "2016-04-03 05:54:00    -842.510377  \n",
       "2016-04-03 05:55:00     361.268623  \n",
       "2016-04-03 05:56:00      50.397405  \n",
       "2016-04-03 05:57:00       1.673480  "
      ]
     },
     "execution_count": 33,
     "metadata": {},
     "output_type": "execute_result"
    }
   ],
   "source": [
    "rs_full.head()"
   ]
  },
  {
   "cell_type": "code",
   "execution_count": 34,
   "metadata": {},
   "outputs": [
    {
     "data": {
      "text/plain": [
       "<matplotlib.axes._subplots.AxesSubplot at 0x7f495507ef28>"
      ]
     },
     "execution_count": 34,
     "metadata": {},
     "output_type": "execute_result"
    },
    {
     "data": {
      "image/png": "[encoded data removed]",
      "text/plain": [
       "<matplotlib.figure.Figure at 0x7f49555ee438>"
      ]
     },
     "metadata": {},
     "output_type": "display_data"
    }
   ],
   "source": [
    "rs_full['direction_amt'].plot()"
   ]
  }
 ],
 "metadata": {
  "kernelspec": {
   "display_name": "Python 3",
   "language": "python",
   "name": "python3"
  },
  "language_info": {
   "codemirror_mode": {
    "name": "ipython",
    "version": 3
   },
   "file_extension": ".py",
   "mimetype": "text/x-python",
   "name": "python",
   "nbconvert_exporter": "python",
   "pygments_lexer": "ipython3",
   "version": "3.5.2"
  }
 },
 "nbformat": 4,
 "nbformat_minor": 2
}
