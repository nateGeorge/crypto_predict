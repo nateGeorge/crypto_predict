{
 "cells": [
  {
   "cell_type": "markdown",
   "metadata": {},
   "source": [
    "# some of the data files had trade_history in front of them, but they're already in a trade_history folder.  This removes the trade_history from the front of files"
   ]
  },
  {
   "cell_type": "code",
   "execution_count": 1,
   "metadata": {
    "collapsed": true
   },
   "outputs": [],
   "source": [
    "test_name = 'trade_history_BTC_REP.csv.gz '"
   ]
  },
  {
   "cell_type": "code",
   "execution_count": 2,
   "metadata": {
    "collapsed": true
   },
   "outputs": [],
   "source": [
    "import re"
   ]
  },
  {
   "cell_type": "code",
   "execution_count": 3,
   "metadata": {},
   "outputs": [
    {
     "data": {
      "text/plain": [
       "'BTC_REP.csv.gz '"
      ]
     },
     "execution_count": 3,
     "metadata": {},
     "output_type": "execute_result"
    }
   ],
   "source": [
    "re.sub('trade_history_', '', test_name)"
   ]
  },
  {
   "cell_type": "code",
   "execution_count": 4,
   "metadata": {
    "collapsed": true
   },
   "outputs": [],
   "source": [
    "import glob"
   ]
  },
  {
   "cell_type": "code",
   "execution_count": 9,
   "metadata": {
    "collapsed": true
   },
   "outputs": [],
   "source": [
    "trade_hist_polo = list(glob.iglob('../data/trade_history/poloniex/*.csv.gz'))"
   ]
  },
  {
   "cell_type": "code",
   "execution_count": 10,
   "metadata": {},
   "outputs": [
    {
     "data": {
      "text/plain": [
       "['../data/trade_history/poloniex/trade_history_XMR_BLK.csv.gz',\n",
       " '../data/trade_history/poloniex/trade_history_BTC_PASC.csv.gz',\n",
       " '../data/trade_history/poloniex/trade_history_USDT_XRP.csv.gz',\n",
       " '../data/trade_history/poloniex/trade_history_BTC_NXC.csv.gz',\n",
       " '../data/trade_history/poloniex/trade_history_BTC_XVC.csv.gz',\n",
       " '../data/trade_history/poloniex/trade_history_BTC_RIC.csv.gz',\n",
       " '../data/trade_history/poloniex/trade_history_BTC_DGB.csv.gz',\n",
       " '../data/trade_history/poloniex/trade_history_XMR_MAID.csv.gz',\n",
       " '../data/trade_history/poloniex/trade_history_BTC_NOTE.csv.gz',\n",
       " '../data/trade_history/poloniex/trade_history_ETH_ZEC.csv.gz',\n",
       " '../data/trade_history/poloniex/trade_history_BTC_ETH.csv.gz',\n",
       " '../data/trade_history/poloniex/trade_history_XMR_BTCD.csv.gz',\n",
       " '../data/trade_history/poloniex/trade_history_BTC_NAUT.csv.gz',\n",
       " '../data/trade_history/poloniex/trade_history_ETH_ETC.csv.gz',\n",
       " '../data/trade_history/poloniex/trade_history_BTC_SC.csv.gz',\n",
       " '../data/trade_history/poloniex/trade_history_BTC_LBC.csv.gz',\n",
       " '../data/trade_history/poloniex/trade_history_BTC_FCT.csv.gz',\n",
       " '../data/trade_history/poloniex/trade_history_BTC_ZEC.csv.gz',\n",
       " '../data/trade_history/poloniex/trade_history_BTC_RADS.csv.gz',\n",
       " '../data/trade_history/poloniex/trade_history_BTC_SJCX.csv.gz',\n",
       " '../data/trade_history/poloniex/trade_history_BTC_VRC.csv.gz',\n",
       " '../data/trade_history/poloniex/trade_history_BTC_GRC.csv.gz',\n",
       " '../data/trade_history/poloniex/trade_history_BTC_XRP.csv.gz',\n",
       " '../data/trade_history/poloniex/trade_history_ETH_REP.csv.gz',\n",
       " '../data/trade_history/poloniex/trade_history_XMR_NXT.csv.gz',\n",
       " '../data/trade_history/poloniex/trade_history_BTC_DCR.csv.gz',\n",
       " '../data/trade_history/poloniex/trade_history_BTC_PINK.csv.gz',\n",
       " '../data/trade_history/poloniex/trade_history_BTC_VTC.csv.gz',\n",
       " '../data/trade_history/poloniex/trade_history_BTC_BCY.csv.gz',\n",
       " '../data/trade_history/poloniex/trade_history_BTC_STR.csv.gz',\n",
       " '../data/trade_history/poloniex/trade_history_BTC_EXP.csv.gz',\n",
       " '../data/trade_history/poloniex/trade_history_BTC_NMC.csv.gz',\n",
       " '../data/trade_history/poloniex/trade_history_ETH_GNT.csv.gz',\n",
       " '../data/trade_history/poloniex/trade_history_BTC_BURST.csv.gz',\n",
       " '../data/trade_history/poloniex/trade_history_BTC_FLO.csv.gz',\n",
       " '../data/trade_history/poloniex/trade_history_BTC_GNT.csv.gz',\n",
       " '../data/trade_history/poloniex/trade_history_BTC_SYS.csv.gz',\n",
       " '../data/trade_history/poloniex/trade_history_BTC_PPC.csv.gz',\n",
       " '../data/trade_history/poloniex/trade_history_BTC_MAID.csv.gz',\n",
       " '../data/trade_history/poloniex/trade_history_BTC_LTC.csv.gz',\n",
       " '../data/trade_history/poloniex/trade_history_BTC_GNO.csv.gz',\n",
       " '../data/trade_history/poloniex/trade_history_BTC_LSK.csv.gz',\n",
       " '../data/trade_history/poloniex/trade_history_BTC_XMR.csv.gz',\n",
       " '../data/trade_history/poloniex/trade_history_BTC_XCP.csv.gz',\n",
       " '../data/trade_history/poloniex/trade_history_BTC_ETC.csv.gz',\n",
       " '../data/trade_history/poloniex/trade_history_USDT_ETC.csv.gz',\n",
       " '../data/trade_history/poloniex/trade_history_BTC_FLDC.csv.gz',\n",
       " '../data/trade_history/poloniex/trade_history_BTC_NXT.csv.gz',\n",
       " '../data/trade_history/poloniex/trade_history_ETH_STEEM.csv.gz',\n",
       " '../data/trade_history/poloniex/trade_history_ETH_LSK.csv.gz',\n",
       " '../data/trade_history/poloniex/trade_history_BTC_HUC.csv.gz',\n",
       " '../data/trade_history/poloniex/trade_history_BTC_SBD.csv.gz',\n",
       " '../data/trade_history/poloniex/trade_history_USDT_DASH.csv.gz',\n",
       " '../data/trade_history/poloniex/trade_history_BTC_CLAM.csv.gz',\n",
       " '../data/trade_history/poloniex/trade_history_BTC_BTCD.csv.gz',\n",
       " '../data/trade_history/poloniex/trade_history_BTC_DASH.csv.gz',\n",
       " '../data/trade_history/poloniex/trade_history_USDT_REP.csv.gz',\n",
       " '../data/trade_history/poloniex/trade_history_BTC_EMC2.csv.gz',\n",
       " '../data/trade_history/poloniex/trade_history_BTC_XPM.csv.gz',\n",
       " '../data/trade_history/poloniex/trade_history_USDT_ETH.csv.gz',\n",
       " '../data/trade_history/poloniex/trade_history_BTC_POT.csv.gz',\n",
       " '../data/trade_history/poloniex/trade_history_BTC_BTS.csv.gz',\n",
       " '../data/trade_history/poloniex/trade_history_BTC_BELA.csv.gz',\n",
       " '../data/trade_history/poloniex/trade_history_XMR_ZEC.csv.gz',\n",
       " '../data/trade_history/poloniex/trade_history_BTC_STEEM.csv.gz',\n",
       " '../data/trade_history/poloniex/trade_history_USDT_ZEC.csv.gz',\n",
       " '../data/trade_history/poloniex/trade_history_BTC_NEOS.csv.gz',\n",
       " '../data/trade_history/poloniex/trade_history_XMR_DASH.csv.gz',\n",
       " '../data/trade_history/poloniex/trade_history_USDT_XMR.csv.gz',\n",
       " '../data/trade_history/poloniex/trade_history_BTC_VIA.csv.gz',\n",
       " '../data/trade_history/poloniex/trade_history_BTC_XBC.csv.gz',\n",
       " '../data/trade_history/poloniex/trade_history_USDT_STR.csv.gz',\n",
       " '../data/trade_history/poloniex/trade_history_BTC_REP.csv.gz',\n",
       " '../data/trade_history/poloniex/trade_history_BTC_STRAT.csv.gz',\n",
       " '../data/trade_history/poloniex/trade_history_BTC_OMNI.csv.gz',\n",
       " '../data/trade_history/poloniex/trade_history_USDT_BTC.csv.gz',\n",
       " '../data/trade_history/poloniex/trade_history_BTC_BTM.csv.gz',\n",
       " '../data/trade_history/poloniex/trade_history_XMR_LTC.csv.gz',\n",
       " '../data/trade_history/poloniex/trade_history_BTC_DOGE.csv.gz',\n",
       " '../data/trade_history/poloniex/trade_history_USDT_NXT.csv.gz',\n",
       " '../data/trade_history/poloniex/trade_history_USDT_LTC.csv.gz',\n",
       " '../data/trade_history/poloniex/trade_history_XMR_BCN.csv.gz',\n",
       " '../data/trade_history/poloniex/trade_history_BTC_AMP.csv.gz',\n",
       " '../data/trade_history/poloniex/trade_history_BTC_NAV.csv.gz',\n",
       " '../data/trade_history/poloniex/trade_history_BTC_BCN.csv.gz',\n",
       " '../data/trade_history/poloniex/trade_history_BTC_ARDR.csv.gz',\n",
       " '../data/trade_history/poloniex/trade_history_BTC_BLK.csv.gz',\n",
       " '../data/trade_history/poloniex/trade_history_BTC_GAME.csv.gz',\n",
       " '../data/trade_history/poloniex/trade_history_ETH_GNO.csv.gz',\n",
       " '../data/trade_history/poloniex/trade_history_BTC_XEM.csv.gz']"
      ]
     },
     "execution_count": 10,
     "metadata": {},
     "output_type": "execute_result"
    }
   ],
   "source": [
    "trade_hist_polo"
   ]
  },
  {
   "cell_type": "code",
   "execution_count": 11,
   "metadata": {
    "collapsed": true
   },
   "outputs": [],
   "source": [
    "import os"
   ]
  },
  {
   "cell_type": "code",
   "execution_count": 12,
   "metadata": {
    "collapsed": true
   },
   "outputs": [],
   "source": [
    "old_f = trade_hist_polo[0]"
   ]
  },
  {
   "cell_type": "code",
   "execution_count": 13,
   "metadata": {
    "collapsed": true
   },
   "outputs": [],
   "source": [
    "new_f = re.sub('trade_history_', '', old_f)"
   ]
  },
  {
   "cell_type": "code",
   "execution_count": 14,
   "metadata": {},
   "outputs": [
    {
     "data": {
      "text/plain": [
       "'../data/trade_history/poloniex/XMR_BLK.csv.gz'"
      ]
     },
     "execution_count": 14,
     "metadata": {},
     "output_type": "execute_result"
    }
   ],
   "source": [
    "new_f"
   ]
  },
  {
   "cell_type": "code",
   "execution_count": 15,
   "metadata": {
    "collapsed": true
   },
   "outputs": [],
   "source": [
    "for old_f in trade_hist_polo:\n",
    "    new_f = re.sub('trade_history_', '', old_f)\n",
    "    os.rename(old_f, new_f)"
   ]
  }
 ],
 "metadata": {
  "kernelspec": {
   "display_name": "Python 3",
   "language": "python",
   "name": "python3"
  },
  "language_info": {
   "codemirror_mode": {
    "name": "ipython",
    "version": 3
   },
   "file_extension": ".py",
   "mimetype": "text/x-python",
   "name": "python",
   "nbconvert_exporter": "python",
   "pygments_lexer": "ipython3",
   "version": "3.5.2"
  }
 },
 "nbformat": 4,
 "nbformat_minor": 2
}
